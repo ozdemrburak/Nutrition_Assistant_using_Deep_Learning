{
 "nbformat": 4,
 "nbformat_minor": 0,
 "metadata": {
  "colab": {
   "provenance": [],
   "collapsed_sections": [
    "iZq76vR6-FRp"
   ],
   "machine_shape": "hm",
   "authorship_tag": "ABX9TyNmTMzF+NfoyQNG2NklB45q",
   "include_colab_link": true
  },
  "kernelspec": {
   "name": "python3",
   "display_name": "Python 3"
  },
  "language_info": {
   "name": "python"
  },
  "widgets": {
   "application/vnd.jupyter.widget-state+json": {
    "403a8fbeb0604bb08d1f95e6ef43a581": {
     "model_module": "@jupyter-widgets/controls",
     "model_name": "HBoxModel",
     "model_module_version": "1.5.0",
     "state": {
      "_dom_classes": [],
      "_model_module": "@jupyter-widgets/controls",
      "_model_module_version": "1.5.0",
      "_model_name": "HBoxModel",
      "_view_count": null,
      "_view_module": "@jupyter-widgets/controls",
      "_view_module_version": "1.5.0",
      "_view_name": "HBoxView",
      "box_style": "",
      "children": [
       "IPY_MODEL_08622e4c7eb6474193c96236789db510",
       "IPY_MODEL_fcb6b59b99e64738ade74f8cf6adbafc",
       "IPY_MODEL_434d92c2fd8c449c916dcf83476118bd"
      ],
      "layout": "IPY_MODEL_4ebba156455a432389d82a9d4db6581a"
     }
    },
    "08622e4c7eb6474193c96236789db510": {
     "model_module": "@jupyter-widgets/controls",
     "model_name": "HTMLModel",
     "model_module_version": "1.5.0",
     "state": {
      "_dom_classes": [],
      "_model_module": "@jupyter-widgets/controls",
      "_model_module_version": "1.5.0",
      "_model_name": "HTMLModel",
      "_view_count": null,
      "_view_module": "@jupyter-widgets/controls",
      "_view_module_version": "1.5.0",
      "_view_name": "HTMLView",
      "description": "",
      "description_tooltip": null,
      "layout": "IPY_MODEL_c1b67edb1c2f43e7a19dd7e51b30a192",
      "placeholder": "​",
      "style": "IPY_MODEL_3ca620bf5ff74ff19f554832eb9a6170",
      "value": " 83%"
     }
    },
    "fcb6b59b99e64738ade74f8cf6adbafc": {
     "model_module": "@jupyter-widgets/controls",
     "model_name": "FloatProgressModel",
     "model_module_version": "1.5.0",
     "state": {
      "_dom_classes": [],
      "_model_module": "@jupyter-widgets/controls",
      "_model_module_version": "1.5.0",
      "_model_name": "FloatProgressModel",
      "_view_count": null,
      "_view_module": "@jupyter-widgets/controls",
      "_view_module_version": "1.5.0",
      "_view_name": "ProgressView",
      "bar_style": "danger",
      "description": "",
      "description_tooltip": null,
      "layout": "IPY_MODEL_10e1772d065f4ad88f6a954e645557c4",
      "max": 75,
      "min": 0,
      "orientation": "horizontal",
      "style": "IPY_MODEL_482646977f2c4bc197048bb42ee0ba60",
      "value": 62
     }
    },
    "434d92c2fd8c449c916dcf83476118bd": {
     "model_module": "@jupyter-widgets/controls",
     "model_name": "HTMLModel",
     "model_module_version": "1.5.0",
     "state": {
      "_dom_classes": [],
      "_model_module": "@jupyter-widgets/controls",
      "_model_module_version": "1.5.0",
      "_model_name": "HTMLModel",
      "_view_count": null,
      "_view_module": "@jupyter-widgets/controls",
      "_view_module_version": "1.5.0",
      "_view_name": "HTMLView",
      "description": "",
      "description_tooltip": null,
      "layout": "IPY_MODEL_b7ba08ddc8a4407c8f062183a2ed0d77",
      "placeholder": "​",
      "style": "IPY_MODEL_85bee028b06d4e5d977cd8e801e1ef01",
      "value": " 62/75 [1:01:59&lt;12:53, 59.51s/it]"
     }
    },
    "4ebba156455a432389d82a9d4db6581a": {
     "model_module": "@jupyter-widgets/base",
     "model_name": "LayoutModel",
     "model_module_version": "1.2.0",
     "state": {
      "_model_module": "@jupyter-widgets/base",
      "_model_module_version": "1.2.0",
      "_model_name": "LayoutModel",
      "_view_count": null,
      "_view_module": "@jupyter-widgets/base",
      "_view_module_version": "1.2.0",
      "_view_name": "LayoutView",
      "align_content": null,
      "align_items": null,
      "align_self": null,
      "border": null,
      "bottom": null,
      "display": null,
      "flex": null,
      "flex_flow": null,
      "grid_area": null,
      "grid_auto_columns": null,
      "grid_auto_flow": null,
      "grid_auto_rows": null,
      "grid_column": null,
      "grid_gap": null,
      "grid_row": null,
      "grid_template_areas": null,
      "grid_template_columns": null,
      "grid_template_rows": null,
      "height": null,
      "justify_content": null,
      "justify_items": null,
      "left": null,
      "margin": null,
      "max_height": null,
      "max_width": null,
      "min_height": null,
      "min_width": null,
      "object_fit": null,
      "object_position": null,
      "order": null,
      "overflow": null,
      "overflow_x": null,
      "overflow_y": null,
      "padding": null,
      "right": null,
      "top": null,
      "visibility": null,
      "width": null
     }
    },
    "c1b67edb1c2f43e7a19dd7e51b30a192": {
     "model_module": "@jupyter-widgets/base",
     "model_name": "LayoutModel",
     "model_module_version": "1.2.0",
     "state": {
      "_model_module": "@jupyter-widgets/base",
      "_model_module_version": "1.2.0",
      "_model_name": "LayoutModel",
      "_view_count": null,
      "_view_module": "@jupyter-widgets/base",
      "_view_module_version": "1.2.0",
      "_view_name": "LayoutView",
      "align_content": null,
      "align_items": null,
      "align_self": null,
      "border": null,
      "bottom": null,
      "display": null,
      "flex": null,
      "flex_flow": null,
      "grid_area": null,
      "grid_auto_columns": null,
      "grid_auto_flow": null,
      "grid_auto_rows": null,
      "grid_column": null,
      "grid_gap": null,
      "grid_row": null,
      "grid_template_areas": null,
      "grid_template_columns": null,
      "grid_template_rows": null,
      "height": null,
      "justify_content": null,
      "justify_items": null,
      "left": null,
      "margin": null,
      "max_height": null,
      "max_width": null,
      "min_height": null,
      "min_width": null,
      "object_fit": null,
      "object_position": null,
      "order": null,
      "overflow": null,
      "overflow_x": null,
      "overflow_y": null,
      "padding": null,
      "right": null,
      "top": null,
      "visibility": null,
      "width": null
     }
    },
    "3ca620bf5ff74ff19f554832eb9a6170": {
     "model_module": "@jupyter-widgets/controls",
     "model_name": "DescriptionStyleModel",
     "model_module_version": "1.5.0",
     "state": {
      "_model_module": "@jupyter-widgets/controls",
      "_model_module_version": "1.5.0",
      "_model_name": "DescriptionStyleModel",
      "_view_count": null,
      "_view_module": "@jupyter-widgets/base",
      "_view_module_version": "1.2.0",
      "_view_name": "StyleView",
      "description_width": ""
     }
    },
    "10e1772d065f4ad88f6a954e645557c4": {
     "model_module": "@jupyter-widgets/base",
     "model_name": "LayoutModel",
     "model_module_version": "1.2.0",
     "state": {
      "_model_module": "@jupyter-widgets/base",
      "_model_module_version": "1.2.0",
      "_model_name": "LayoutModel",
      "_view_count": null,
      "_view_module": "@jupyter-widgets/base",
      "_view_module_version": "1.2.0",
      "_view_name": "LayoutView",
      "align_content": null,
      "align_items": null,
      "align_self": null,
      "border": null,
      "bottom": null,
      "display": null,
      "flex": null,
      "flex_flow": null,
      "grid_area": null,
      "grid_auto_columns": null,
      "grid_auto_flow": null,
      "grid_auto_rows": null,
      "grid_column": null,
      "grid_gap": null,
      "grid_row": null,
      "grid_template_areas": null,
      "grid_template_columns": null,
      "grid_template_rows": null,
      "height": null,
      "justify_content": null,
      "justify_items": null,
      "left": null,
      "margin": null,
      "max_height": null,
      "max_width": null,
      "min_height": null,
      "min_width": null,
      "object_fit": null,
      "object_position": null,
      "order": null,
      "overflow": null,
      "overflow_x": null,
      "overflow_y": null,
      "padding": null,
      "right": null,
      "top": null,
      "visibility": null,
      "width": null
     }
    },
    "482646977f2c4bc197048bb42ee0ba60": {
     "model_module": "@jupyter-widgets/controls",
     "model_name": "ProgressStyleModel",
     "model_module_version": "1.5.0",
     "state": {
      "_model_module": "@jupyter-widgets/controls",
      "_model_module_version": "1.5.0",
      "_model_name": "ProgressStyleModel",
      "_view_count": null,
      "_view_module": "@jupyter-widgets/base",
      "_view_module_version": "1.2.0",
      "_view_name": "StyleView",
      "bar_color": null,
      "description_width": ""
     }
    },
    "b7ba08ddc8a4407c8f062183a2ed0d77": {
     "model_module": "@jupyter-widgets/base",
     "model_name": "LayoutModel",
     "model_module_version": "1.2.0",
     "state": {
      "_model_module": "@jupyter-widgets/base",
      "_model_module_version": "1.2.0",
      "_model_name": "LayoutModel",
      "_view_count": null,
      "_view_module": "@jupyter-widgets/base",
      "_view_module_version": "1.2.0",
      "_view_name": "LayoutView",
      "align_content": null,
      "align_items": null,
      "align_self": null,
      "border": null,
      "bottom": null,
      "display": null,
      "flex": null,
      "flex_flow": null,
      "grid_area": null,
      "grid_auto_columns": null,
      "grid_auto_flow": null,
      "grid_auto_rows": null,
      "grid_column": null,
      "grid_gap": null,
      "grid_row": null,
      "grid_template_areas": null,
      "grid_template_columns": null,
      "grid_template_rows": null,
      "height": null,
      "justify_content": null,
      "justify_items": null,
      "left": null,
      "margin": null,
      "max_height": null,
      "max_width": null,
      "min_height": null,
      "min_width": null,
      "object_fit": null,
      "object_position": null,
      "order": null,
      "overflow": null,
      "overflow_x": null,
      "overflow_y": null,
      "padding": null,
      "right": null,
      "top": null,
      "visibility": null,
      "width": null
     }
    },
    "85bee028b06d4e5d977cd8e801e1ef01": {
     "model_module": "@jupyter-widgets/controls",
     "model_name": "DescriptionStyleModel",
     "model_module_version": "1.5.0",
     "state": {
      "_model_module": "@jupyter-widgets/controls",
      "_model_module_version": "1.5.0",
      "_model_name": "DescriptionStyleModel",
      "_view_count": null,
      "_view_module": "@jupyter-widgets/base",
      "_view_module_version": "1.2.0",
      "_view_name": "StyleView",
      "description_width": ""
     }
    }
   }
  }
 },
 "cells": [
  {
   "cell_type": "markdown",
   "metadata": {
    "id": "view-in-github",
    "colab_type": "text"
   },
   "source": [
    "<a href=\"https://colab.research.google.com/github/ozdemrburak/Nutrition_Assistant_using_Deep_Learning/blob/main/ResNetRegressor.ipynb\" target=\"_parent\"><img src=\"https://colab.research.google.com/assets/colab-badge.svg\" alt=\"Open In Colab\"/></a>"
   ]
  },
  {
   "cell_type": "markdown",
   "source": [
    "# Kaggle'dan veri seti yükleme ve ön işleme"
   ],
   "metadata": {
    "id": "iZq76vR6-FRp"
   }
  },
  {
   "cell_type": "code",
   "metadata": {
    "colab": {
     "base_uri": "https://localhost:8080/"
    },
    "id": "dIPZmG9s8m5Y",
    "outputId": "40734f27-d099-4df0-ea6d-182002587cc7"
   },
   "source": [
    "import kagglehub\n",
    "\n",
    "# Download latest version\n",
    "path = kagglehub.dataset_download(\"siddhantrout/nutrition5k-dataset\")\n",
    "\n",
    "print(\"Path to dataset files:\", path)"
   ],
   "outputs": [],
   "execution_count": null
  },
  {
   "cell_type": "code",
   "source": [
    "import pickle\n",
    "\n",
    "images_path = path + \"/dish_images.pkl\"\n",
    "with open(images_path, 'rb') as f:\n",
    "    images = pickle.load(f)"
   ],
   "metadata": {
    "id": "9yYLnhmv9mmq"
   },
   "outputs": [],
   "execution_count": null
  },
  {
   "cell_type": "code",
   "source": [
    "images.head()"
   ],
   "metadata": {
    "id": "FvqLO0NE909e",
    "colab": {
     "base_uri": "https://localhost:8080/"
    },
    "outputId": "172a316c-eb46-452f-f387-fd25815428fe"
   },
   "outputs": [],
   "execution_count": null
  },
  {
   "cell_type": "code",
   "source": [
    "images.info()"
   ],
   "metadata": {
    "id": "eF0TwCUj98IC",
    "colab": {
     "base_uri": "https://localhost:8080/"
    },
    "outputId": "3a5927bd-7fb8-41a8-8b5d-b9e17b308f1e"
   },
   "outputs": [],
   "execution_count": null
  },
  {
   "cell_type": "code",
   "source": [
    "import pandas as pd\n",
    "df_i = pd.read_excel(path + \"/dish_ingredients.xlsx\")\n",
    "df_i.head()"
   ],
   "metadata": {
    "id": "n6rKy6vf9_42",
    "colab": {
     "base_uri": "https://localhost:8080/"
    },
    "outputId": "b9e06bfb-500d-4485-8b6f-6f5dab0eb2f0"
   },
   "outputs": [],
   "execution_count": null
  },
  {
   "cell_type": "code",
   "source": [
    "# dish_id'ye göre gruplama ve sayısal kolonları toplama, dishes.xslx'de bazı değerler eksikti. Burada malzemelerin calori vs. değerlerini toplayıp doğru değerleri elde ettik.\n",
    "df_new = df_i.groupby('dish_id')[['grams', 'calories', 'fat', 'carb', 'protein']].sum().reset_index()\n",
    "\n",
    "print(\"Yeni DataFrame:\")\n",
    "print(df_new.head())\n",
    "print(f\"\\nYeni DataFrame boyutu: {df_new.shape}\")\n",
    "print(f\"\\nVeri tipleri:\")\n",
    "print(df_new.dtypes)"
   ],
   "metadata": {
    "id": "9-si22f0-WjD",
    "colab": {
     "base_uri": "https://localhost:8080/"
    },
    "outputId": "96a737a8-dedb-4ff5-a2fc-890086fe297a"
   },
   "outputs": [],
   "execution_count": null
  },
  {
   "cell_type": "code",
   "source": [
    "images_subset = images[['dish', 'rgb_image']]\n",
    "df_merged = images_subset.merge(df_new, left_on=\"dish\", right_on=\"dish_id\", how = \"inner\")\n",
    "df_merged.info()"
   ],
   "metadata": {
    "id": "ijgRzjbX-iYB",
    "colab": {
     "base_uri": "https://localhost:8080/"
    },
    "outputId": "739e42bd-a2af-446e-8590-cd6212ad682c"
   },
   "outputs": [],
   "execution_count": null
  },
  {
   "cell_type": "code",
   "source": [
    "def remove_dish_ids(df_merged, txt_file_path):\n",
    "    \"\"\"\n",
    "    Set operations kullanarak daha hızlı silme işlemi\n",
    "    \"\"\"\n",
    "\n",
    "    # Txt dosyasını oku\n",
    "    with open(txt_file_path, 'r', encoding='utf-8') as file:\n",
    "        dish_ids_to_remove = set(line.strip() for line in file if line.strip())\n",
    "\n",
    "    print(f\"Silinecek dish_id sayısı: {len(dish_ids_to_remove)}\")\n",
    "\n",
    "    # Set operations kullanarak filtreleme\n",
    "    original_size = len(df_merged)\n",
    "    mask = ~df_merged['dish_id'].isin(dish_ids_to_remove)\n",
    "    df_cleaned = df_merged[mask].copy()\n",
    "\n",
    "    final_size = len(df_cleaned)\n",
    "    print(f\"Orijinal: {original_size} -> Temizlenmiş: {final_size}\")\n",
    "    print(f\"Silinen: {original_size - final_size} satır\")\n",
    "\n",
    "    return df_cleaned"
   ],
   "metadata": {
    "id": "QDKk48VN-2wX"
   },
   "outputs": [],
   "execution_count": null
  },
  {
   "cell_type": "code",
   "source": [
    "dataset_cleaned = remove_dish_ids(df_merged, \"exclusion.txt\")"
   ],
   "metadata": {
    "id": "YoD7rjaP-2es",
    "colab": {
     "base_uri": "https://localhost:8080/"
    },
    "outputId": "2a36a505-4b8b-4218-debd-c33d3b14ef12"
   },
   "outputs": [],
   "execution_count": null
  },
  {
   "cell_type": "code",
   "source": [
    "dataset_cleaned.info()"
   ],
   "metadata": {
    "id": "m437FB79_cu6"
   },
   "outputs": [],
   "execution_count": null
  },
  {
   "cell_type": "markdown",
   "source": [
    "# PyTorch Custom Dataset"
   ],
   "metadata": {
    "id": "MeURVuP7_gts"
   }
  },
  {
   "cell_type": "code",
   "source": [
    "import torch\n",
    "import pandas as pd\n",
    "import numpy as np\n",
    "from torch.utils.data import Dataset, DataLoader\n",
    "from PIL import Image\n",
    "from torchvision import transforms\n",
    "import io\n",
    "from sklearn.preprocessing import StandardScaler"
   ],
   "metadata": {
    "id": "uI8D6KwVNbvx"
   },
   "outputs": [],
   "execution_count": null
  },
  {
   "cell_type": "code",
   "source": [
    "class NutritionDataset(Dataset):\n",
    "    def __init__(self, df, target_columns, transform=None):\n",
    "        self.df = df[df['rgb_image'].notna()].reset_index(drop=True)\n",
    "        self.transform = transform\n",
    "        self.target_columns = target_columns\n",
    "        self.targets = self.df[self.target_columns].values\n",
    "\n",
    "    def __len__(self):\n",
    "        return len(self.df)\n",
    "\n",
    "    def __getitem__(self, idx):\n",
    "        row = self.df.iloc[idx]\n",
    "        image_data = row['rgb_image']\n",
    "        image = Image.open(io.BytesIO(image_data)).convert('RGB')\n",
    "        target_data = torch.tensor(self.targets[idx], dtype=torch.float32)\n",
    "        if self.transform:\n",
    "            image = self.transform(image)\n",
    "        return image, target_data\n"
   ],
   "metadata": {
    "id": "x55djr49_eSW"
   },
   "outputs": [],
   "execution_count": null
  },
  {
   "cell_type": "code",
   "source": [
    "\n",
    "def create_data_loaders_with_rgb(df, batch_size=32, train_split=0.85, target_columns=None, scaler = None):\n",
    "  #dataset split\n",
    "  df_shuffled = df.sample(frac=1).reset_index(drop=True)\n",
    "  train_size = int(len(df_shuffled) * train_split)\n",
    "  train_df = df_shuffled[:train_size]\n",
    "  val_df = df_shuffled[train_size:]\n",
    "  #scaler\n",
    "  if target_columns is None:\n",
    "        target_columns = ['grams', 'calories', 'fat', 'carb', 'protein']\n",
    "  scaler = StandardScaler()\n",
    "  train_df[target_columns] = scaler.fit_transform(train_df[target_columns])\n",
    "  val_df[target_columns]   = scaler.transform(val_df[target_columns])\n",
    "  #transform\n",
    "  train_transform = transforms.Compose([\n",
    "      transforms.Resize((224, 224)),\n",
    "      transforms.RandomHorizontalFlip(p = 0.4),\n",
    "      transforms.ToTensor(),\n",
    "      transforms.Normalize(mean=[0.485, 0.456, 0.406], std=[0.229, 0.224, 0.225])\n",
    "  ])\n",
    "  val_transform = transforms.Compose([\n",
    "      transforms.Resize((224, 224)),\n",
    "      transforms.ToTensor(),\n",
    "      transforms.Normalize(mean=[0.485, 0.456, 0.406], std=[0.229, 0.224, 0.225])\n",
    "  ])\n",
    "  #dataset class'ını çağırarak dataset oluşturma\n",
    "  train_dataset = NutritionDataset(train_df, target_columns, transform= train_transform)\n",
    "  val_dataset = NutritionDataset(val_df, target_columns, transform= val_transform)\n",
    "  #dataloaders oluşturma\n",
    "  train_loader = DataLoader(train_dataset, batch_size=batch_size, shuffle=True)\n",
    "  val_loader = DataLoader(val_dataset, batch_size=batch_size, shuffle=False)\n",
    "\n",
    "  return train_loader, val_loader"
   ],
   "metadata": {
    "id": "tCZS-ZdlMMw_"
   },
   "outputs": [],
   "execution_count": null
  },
  {
   "cell_type": "code",
   "source": [
    "train_data, val_data = create_data_loaders_with_rgb(dataset_cleaned)"
   ],
   "metadata": {
    "colab": {
     "base_uri": "https://localhost:8080/"
    },
    "id": "AVfxooDTQPAo",
    "outputId": "48580c8d-680c-47ec-e246-dc67f0c3960c"
   },
   "outputs": [],
   "execution_count": null
  },
  {
   "cell_type": "code",
   "metadata": {
    "colab": {
     "base_uri": "https://localhost:8080/"
    },
    "id": "cf811370",
    "outputId": "c1b03c58-1715-4559-d9dc-af4e8cc2e9c8"
   },
   "source": [
    "# train_data'nın ilk elemanına erişme\n",
    "train_iter = iter(train_data)\n",
    "first_train_element = next(train_iter)\n",
    "\n",
    "# val_data'nın ilk elemanına erişme\n",
    "val_iter = iter(val_data)\n",
    "first_val_element = next(val_iter)\n",
    "\n",
    "print(\"First element of train_data:\")\n",
    "print(f\"Image batch shape: {first_train_element[0].shape}\")\n",
    "print(f\"Target batch shape: {first_train_element[1].shape}\")\n",
    "\n",
    "print(\"\\nFirst element of val_data:\")\n",
    "print(f\"Image batch shape: {first_val_element[0].shape}\")\n",
    "print(f\"Target batch shape: {first_val_element[1].shape}\")"
   ],
   "outputs": [],
   "execution_count": null
  },
  {
   "cell_type": "markdown",
   "source": [
    "# ResNet101 Model Class\n",
    "ResNet101'in son katmanında fully connected layer 1000 output feature'a sahip. Bunu değiştirmektense bu katmana ek bir RegressionHead yazmak daha doğru diye düşünüyorum. 2 katmanlı bir MLP işimizi görecektir."
   ],
   "metadata": {
    "id": "UR61UvE_ZoB1"
   }
  },
  {
   "cell_type": "code",
   "source": [
    "import torch\n",
    "import torch.nn as nn\n",
    "import torchvision.models as models\n"
   ],
   "metadata": {
    "id": "GeCA6e9mcwte"
   },
   "outputs": [],
   "execution_count": null
  },
  {
   "cell_type": "code",
   "source": [
    "class ResNetRegressor(nn.Module):\n",
    "  def __init__(self, num_outputs = 5):\n",
    "    super(ResNetRegressor, self).__init__()\n",
    "    self.backbone = models.resnet101(pretrained = True)\n",
    "    #self.backbone.fc = nn.Identity()\n",
    "    self.reg_head = nn.Sequential(\n",
    "        nn.ReLU(),\n",
    "        nn.Dropout(0.3),\n",
    "        nn.Linear(in_features=1000, out_features = num_outputs)\n",
    "    )\n",
    "  def forward(self, x):\n",
    "    x = self.backbone(x)\n",
    "    x= self.reg_head(x)\n",
    "    return x"
   ],
   "metadata": {
    "id": "wzLU7aEnTy1z"
   },
   "outputs": [],
   "execution_count": null
  },
  {
   "cell_type": "code",
   "source": [
    "model = ResNetRegressor(num_outputs=5)\n",
    "print(model)"
   ],
   "metadata": {
    "colab": {
     "base_uri": "https://localhost:8080/"
    },
    "collapsed": true,
    "id": "V7uJUHX-dVKk",
    "outputId": "255646e0-6471-476f-e21f-6dccf6b88da8"
   },
   "outputs": [],
   "execution_count": null
  },
  {
   "cell_type": "markdown",
   "source": [
    "# Model Eğitim Fonksiyonları"
   ],
   "metadata": {
    "id": "sFAxm2o8eEKM"
   }
  },
  {
   "cell_type": "code",
   "source": [
    "from tqdm.auto import tqdm\n",
    "from timeit import default_timer as timer\n",
    "from torch.optim import optimizer\n",
    "from torch.optim.lr_scheduler import ReduceLROnPlateau"
   ],
   "metadata": {
    "id": "UDVtpAHvjTGa"
   },
   "outputs": [],
   "execution_count": null
  },
  {
   "cell_type": "code",
   "source": [
    "from sklearn.metrics import r2_score\n",
    "\n",
    "def r2_score_torch(y_true, y_pred):\n",
    "    y_true_np = y_true.detach().cpu().numpy()\n",
    "    y_pred_np = y_pred.detach().cpu().numpy()\n",
    "    return r2_score(y_true_np, y_pred_np)\n"
   ],
   "metadata": {
    "id": "vsGJQuP-itiA"
   },
   "outputs": [],
   "execution_count": null
  },
  {
   "cell_type": "code",
   "source": [
    "def rmse_torch(y_true: torch.Tensor, y_pred: torch.Tensor):\n",
    "    \"\"\"\n",
    "    y_true, y_pred: torch.Tensor (batch veya tüm dataset)\n",
    "    \"\"\"\n",
    "    mse = torch.mean((y_true - y_pred) ** 2)\n",
    "    rmse = torch.sqrt(mse)\n",
    "    return rmse"
   ],
   "metadata": {
    "id": "gY72QZ86KyJQ"
   },
   "outputs": [],
   "execution_count": null
  },
  {
   "cell_type": "code",
   "source": [
    "def train_step(model: torch.nn.Module,\n",
    "               dataloader: torch.utils.data.DataLoader,\n",
    "               loss_fn: torch.nn.Module,\n",
    "               optimizer: torch.optim.Optimizer,\n",
    "               device: torch.device):\n",
    "  model.train()\n",
    "  train_loss = 0.0\n",
    "  train_r2 = 0.0\n",
    "  train_rmse = 0.0\n",
    "  for batch, (X, y) in enumerate(dataloader):\n",
    "    X, y = X.to(device), y.to(device)\n",
    "    y_pred = model(X)\n",
    "    loss = loss_fn(y_pred, y)\n",
    "    train_loss += loss.item()\n",
    "    train_r2 += r2_score_torch(y, y_pred)\n",
    "    train_rmse += rmse_torch(y, y_pred).item()\n",
    "    optimizer.zero_grad()\n",
    "    loss.backward()\n",
    "    optimizer.step()\n",
    "\n",
    "  train_loss = train_loss / len(dataloader)\n",
    "  train_r2 = train_r2 / len(dataloader)\n",
    "  train_rmse = train_rmse / len(dataloader)\n",
    "  return train_loss, train_r2, train_rmse"
   ],
   "metadata": {
    "id": "UB5R2IW_dyeh"
   },
   "outputs": [],
   "execution_count": null
  },
  {
   "cell_type": "code",
   "source": [
    "def val_step(model: torch.nn.Module,\n",
    "             dataloader: torch.utils.data.DataLoader,\n",
    "             loss_fn: torch.nn.Module,\n",
    "             device: torch.device):\n",
    "  model.eval()\n",
    "  val_loss = 0.0\n",
    "  val_r2 = 0.0\n",
    "  val_rmse = 0.0\n",
    "  with torch.inference_mode():\n",
    "    for batch, (X, y) in enumerate(dataloader):\n",
    "      X, y = X.to(device), y.to(device)\n",
    "      y_pred_logits = model(X)\n",
    "      loss = loss_fn(y_pred_logits, y)\n",
    "      val_loss += loss.item()\n",
    "      val_r2 += r2_score_torch(y, y_pred_logits)\n",
    "      val_rmse += rmse_torch(y, y_pred_logits).item()\n",
    "\n",
    "    val_loss = val_loss / len(dataloader)\n",
    "    val_r2 = val_r2 / len(dataloader)\n",
    "    val_rmse = val_rmse / len(dataloader)\n",
    "  return val_loss, val_r2, val_rmse"
   ],
   "metadata": {
    "id": "hVAz-YLIfWS9"
   },
   "outputs": [],
   "execution_count": null
  },
  {
   "cell_type": "code",
   "source": [
    "def train_loop(model: torch.nn.Module,\n",
    "               train_dataloader: torch.utils.data.DataLoader,\n",
    "               test_dataloader: torch.utils.data.DataLoader,\n",
    "               val_dataloader: torch.utils.data.DataLoader,\n",
    "               optimizer: torch.optim.Optimizer,\n",
    "               loss_fn: torch.nn.Module,\n",
    "               scheduler: torch.optim.lr_scheduler,\n",
    "               epochs: int,\n",
    "               device: torch.device):\n",
    "  results = {\n",
    "      \"train_loss\": [],\n",
    "      \"train_r2\": [],\n",
    "      \"train_rmse\": [],\n",
    "      \"val_loss\": [],\n",
    "      \"val_r2\": [],\n",
    "      \"val_rmse\": [],\n",
    "      \"optimizer_lr\": []\n",
    "  }\n",
    "  early_stopper = EarlyStopper(patience=8, min_delta=0.001, save_dir = \"/content/checkpoints\", )\n",
    "  for epoch in tqdm(range(epochs)):\n",
    "    train_loss, train_r2, train_rmse = train_step(model, train_dataloader, loss_fn, optimizer, device) # Corrected argument order\n",
    "    val_loss, val_r2, val_rmse = val_step(model, val_dataloader, loss_fn, device)\n",
    "    print(f\"Epoch: {epoch+1} | Train loss: {train_loss:.4f} | Train R2: {train_r2:.2f} | Train RMSE: {train_rmse:.4f} | Val loss: {val_loss:.4f} | Val R2: {val_r2:.2f} | Val RMSE: {val_rmse:.4f} | LR: {optimizer.param_groups[0]['lr']} \")\n",
    "    results[\"train_loss\"].append(train_loss)\n",
    "    results[\"train_r2\"].append(train_r2)\n",
    "    results[\"train_rmse\"].append(train_rmse)\n",
    "    results[\"val_loss\"].append(val_loss)\n",
    "    results[\"val_r2\"].append(val_r2)\n",
    "    results[\"val_rmse\"].append(val_rmse)\n",
    "    results[\"optimizer_lr\"].append(optimizer.param_groups[0]['lr'])\n",
    "    if early_stopper.early_stop(val_loss, model, epoch):\n",
    "      print(\"Early stopping triggered\")\n",
    "      break\n",
    "    scheduler.step(val_loss)\n",
    "  return results"
   ],
   "metadata": {
    "id": "grb4xoX1gAIu"
   },
   "outputs": [],
   "execution_count": null
  },
  {
   "cell_type": "markdown",
   "source": [
    "# Model Eğitimi"
   ],
   "metadata": {
    "id": "baZzotGxkXFs"
   }
  },
  {
   "cell_type": "code",
   "source": [
    "torch.cuda.empty_cache()"
   ],
   "metadata": {
    "id": "xWs1hl6MoHBi"
   },
   "outputs": [],
   "execution_count": null
  },
  {
   "cell_type": "code",
   "source": [
    "#source: https://stackoverflow.com/questions/71998978/early-stopping-in-pytorch\n",
    "import torch\n",
    "import os\n",
    "\n",
    "class EarlyStopper:\n",
    "    def __init__(self, patience=3, min_delta=0.001, save_dir=\"/content/checkpoints\"):\n",
    "        self.patience = patience\n",
    "        self.min_delta = min_delta\n",
    "        self.counter = 0\n",
    "        self.min_validation_loss = float('inf')\n",
    "        self.save_dir = save_dir\n",
    "        os.makedirs(save_dir, exist_ok=True)\n",
    "\n",
    "    def early_stop(self, validation_loss, model, epoch):\n",
    "        stop = False\n",
    "        if validation_loss < self.min_validation_loss - self.min_delta:\n",
    "            self.min_validation_loss = validation_loss\n",
    "            self.counter = 0\n",
    "            save_path = os.path.join(self.save_dir, f\"best_model.pth\")\n",
    "            torch.save(model.state_dict(), save_path)\n",
    "            print(f\"Model saved at {save_path}\")\n",
    "        else:\n",
    "            self.counter += 1\n",
    "            if self.counter >= self.patience:\n",
    "                stop = True\n",
    "        return stop\n"
   ],
   "metadata": {
    "id": "b-5kwtrPNmLF"
   },
   "outputs": [],
   "execution_count": null
  },
  {
   "cell_type": "code",
   "source": [
    "NUM_EPOCHS = 75\n",
    "model = ResNetRegressor(num_outputs=5)\n",
    "#model.load_state_dict(torch.load(\"model_state_dict.pth\"))\n",
    "device = \"cuda\" if torch.cuda.is_available() else \"cpu\"\n",
    "model.to(device)\n",
    "loss_fn = nn.L1Loss()\n",
    "optimizer = torch.optim.AdamW(params = model.parameters(), lr = 0.001)\n",
    "scheduler = ReduceLROnPlateau(optimizer, mode='min', factor=0.5, patience=4)\n",
    "start_time = timer()\n",
    "model_results = train_loop(model = model,\n",
    "                           train_dataloader = train_data,\n",
    "                           test_dataloader = val_data,\n",
    "                           val_dataloader = val_data,\n",
    "                           optimizer = optimizer,\n",
    "                           loss_fn = loss_fn,\n",
    "                           scheduler = scheduler,\n",
    "                           epochs = NUM_EPOCHS,\n",
    "                           device = device)"
   ],
   "metadata": {
    "colab": {
     "base_uri": "https://localhost:8080/",
     "height": 1000,
     "referenced_widgets": [
      "403a8fbeb0604bb08d1f95e6ef43a581",
      "08622e4c7eb6474193c96236789db510",
      "fcb6b59b99e64738ade74f8cf6adbafc",
      "434d92c2fd8c449c916dcf83476118bd",
      "4ebba156455a432389d82a9d4db6581a",
      "c1b67edb1c2f43e7a19dd7e51b30a192",
      "3ca620bf5ff74ff19f554832eb9a6170",
      "10e1772d065f4ad88f6a954e645557c4",
      "482646977f2c4bc197048bb42ee0ba60",
      "b7ba08ddc8a4407c8f062183a2ed0d77",
      "85bee028b06d4e5d977cd8e801e1ef01"
     ]
    },
    "id": "hyozCfkkkQkL",
    "outputId": "a07fb954-5103-4e7f-9e0d-687085883d96"
   },
   "outputs": [],
   "execution_count": null
  },
  {
   "cell_type": "code",
   "source": [
    "model_state_dict = torch.save(model.state_dict(), \"model_state_dict.pth\")"
   ],
   "metadata": {
    "id": "apBLKm78nDZe"
   },
   "outputs": [],
   "execution_count": null
  },
  {
   "cell_type": "code",
   "metadata": {
    "colab": {
     "base_uri": "https://localhost:8080/"
    },
    "id": "c53bdc16",
    "outputId": "69fa805a-b1a9-4e36-ae1b-9a1509827973"
   },
   "source": [
    "import pickle\n",
    "\n",
    "with open(\"model_results.pkl\", \"wb\") as f:\n",
    "    pickle.dump(model_results, f)\n",
    "\n",
    "print(\"model_results_1_50.pkl dosyası başarıyla kaydedildi.\")"
   ],
   "outputs": [],
   "execution_count": null
  },
  {
   "cell_type": "code",
   "source": [
    "import torch\n",
    "import torch.nn.functional as F\n",
    "\n",
    "model.eval()\n",
    "with torch.inference_mode():\n",
    "    X, y = next(iter(val_data))\n",
    "    X, y = X.to(device), y.float().to(device)\n",
    "    y_pred = model(X)\n",
    "\n",
    "# Per-sample MSE ve MAE\n",
    "mse_per_sample = F.mse_loss(y_pred, y, reduction='none').mean(dim=1)  # [batch]\n",
    "mae_per_sample = F.l1_loss(y_pred, y, reduction='none').mean(dim=1)\n",
    "\n",
    "print(\"Batch MSE mean:\", mse_per_sample.mean().item())\n",
    "print(\"Batch MAE mean:\", mae_per_sample.mean().item())\n",
    "\n",
    "# Per-feature errors (averaged over batch)\n",
    "mse_per_feature = F.mse_loss(y_pred, y, reduction='none').mean(dim=0)  # [5]\n",
    "mae_per_feature = F.l1_loss(y_pred, y, reduction='none').mean(dim=0)\n",
    "print(\"MSE per feature:\", mse_per_feature.tolist())\n",
    "print(\"MAE per feature:\", mae_per_feature.tolist())\n",
    "\n",
    "# A few example predictions vs targets -> ['grams', 'calories', 'fat', 'carb', 'protein']\n",
    "\n",
    "for i in range(5):\n",
    "    print(\"GT:\", y[i].cpu().numpy(), \"PRED:\", y_pred[i].cpu().numpy())\n"
   ],
   "metadata": {
    "colab": {
     "base_uri": "https://localhost:8080/"
    },
    "id": "UkoNPTfYj-2e",
    "outputId": "d09f3b54-7c94-40e7-9690-d24a661b5390"
   },
   "outputs": [],
   "execution_count": null
  },
  {
   "cell_type": "markdown",
   "source": [
    "# Metrik Eğrileri"
   ],
   "metadata": {
    "id": "kB0YJ6joGKF2"
   }
  },
  {
   "cell_type": "code",
   "source": [
    "import matplotlib.pyplot as plt\n",
    "\n",
    "# Loss grafiği\n",
    "plt.figure(figsize=(12,5))\n",
    "plt.subplot(1,2,1)\n",
    "plt.plot(model_results[\"train_loss\"], label=\"Train Loss\")\n",
    "plt.plot(model_results[\"val_loss\"], label=\"Val Loss\")\n",
    "plt.xlabel(\"Epoch\")\n",
    "plt.ylabel(\"Loss\")\n",
    "plt.title(\"Train & Validation Loss\")\n",
    "plt.legend()\n",
    "plt.grid(True)\n",
    "\n",
    "# R² grafiği\n",
    "plt.subplot(1,2,2)\n",
    "plt.plot(model_results[\"train_r2\"], label=\"Train R²\")\n",
    "plt.plot(model_results[\"val_r2\"], label=\"Val R²\")\n",
    "plt.xlabel(\"Epoch\")\n",
    "plt.ylabel(\"R² Score\")\n",
    "plt.title(\"Train & Validation R²\")\n",
    "plt.legend()\n",
    "plt.grid(True)\n",
    "\n",
    "# RMSE grafiği\n",
    "plt.figure(figsize=(12,5))\n",
    "plt.plot(model_results[\"train_rmse\"], label=\"Train RMSE\")\n",
    "plt.plot(model_results[\"val_rmse\"], label=\"Val RMSE\")\n",
    "plt.xlabel(\"Epoch\")\n",
    "plt.ylabel(\"RMSE\")\n",
    "plt.title(\"Train & Validation RMSE\")\n",
    "plt.legend()\n",
    "plt.grid(True)\n",
    "\n",
    "plt.tight_layout()\n",
    "plt.show()\n"
   ],
   "metadata": {
    "colab": {
     "base_uri": "https://localhost:8080/",
     "height": 977
    },
    "id": "YHlAPbFKqtSw",
    "outputId": "390c0dae-f46e-4440-feed-8654da12561c"
   },
   "outputs": [],
   "execution_count": null
  },
  {
   "cell_type": "code",
   "source": [],
   "metadata": {
    "id": "lptfHPNrGMrB"
   },
   "outputs": [],
   "execution_count": null
  }
 ]
}
