{
 "cells": [
  {
   "cell_type": "markdown",
   "metadata": {
    "id": "view-in-github",
    "colab_type": "text"
   },
   "source": [
    "<a href=\"https://colab.research.google.com/github/ozdemrburak/Nutrition_Assistant_using_Deep_Learning/blob/main/dataset_EDA.ipynb\" target=\"_parent\"><img src=\"https://colab.research.google.com/assets/colab-badge.svg\" alt=\"Open In Colab\"/></a>"
   ]
  },
  {
   "cell_type": "code",
   "metadata": {
    "colab": {
     "base_uri": "https://localhost:8080/"
    },
    "id": "Iz8shDA4ofZy",
    "outputId": "1a3c4eee-6fc4-4792-a6c8-014779263678"
   },
   "source": [
    "import kagglehub\n",
    "\n",
    "# Download latest version\n",
    "path = kagglehub.dataset_download(\"siddhantrout/nutrition5k-dataset\")\n",
    "\n",
    "print(\"Path to dataset files:\", path)"
   ],
   "outputs": [],
   "execution_count": null
  },
  {
   "cell_type": "code",
   "metadata": {
    "id": "RornczhYpTVI",
    "colab": {
     "base_uri": "https://localhost:8080/",
     "height": 206
    },
    "outputId": "c15eeebb-cb54-4608-ee84-cb3addc90123"
   },
   "source": [
    "import pandas as pd\n",
    "\n",
    "path = \"/root/.cache/kagglehub/datasets/siddhantrout/nutrition5k-dataset/versions/1/dishes.xlsx\"\n",
    "df = pd.read_excel(path)\n",
    "df.head()"
   ],
   "outputs": [],
   "execution_count": null
  },
  {
   "cell_type": "code",
   "source": [
    "df[\"dish_id\"].is_unique"
   ],
   "metadata": {
    "colab": {
     "base_uri": "https://localhost:8080/"
    },
    "id": "raPR1NUM1SKx",
    "outputId": "30228818-afd9-4095-8120-f5f620c98aaf"
   },
   "outputs": [],
   "execution_count": null
  },
  {
   "cell_type": "code",
   "source": [
    "df.info()"
   ],
   "metadata": {
    "colab": {
     "base_uri": "https://localhost:8080/"
    },
    "id": "V7Yy4AIQ1bMe",
    "outputId": "756c4dca-3ab7-4622-92ec-13ca391e2c5c"
   },
   "outputs": [],
   "execution_count": null
  },
  {
   "cell_type": "markdown",
   "source": [
    "dishes.xlsx deki data'da total_carb, total_fat, total_protein değerleri bazı görsellerde 0 girilmiş. Ayrıca 3490 resim varken 5006 değer var, sanırım side_angled versiyonunda 5k fotoğraf var ama o açıları kullanmama ihtiyaç yok şimdilik."
   ],
   "metadata": {
    "id": "w5RB1mkZ1Jx7"
   }
  },
  {
   "cell_type": "code",
   "source": [
    "import pickle\n",
    "\n",
    "images_path = \"/root/.cache/kagglehub/datasets/siddhantrout/nutrition5k-dataset/versions/1/dish_images.pkl\"\n",
    "with open(images_path, 'rb') as f:\n",
    "    images = pickle.load(f)"
   ],
   "metadata": {
    "id": "oxMFaLaSrKfm"
   },
   "outputs": [],
   "execution_count": null
  },
  {
   "cell_type": "code",
   "source": [
    "images.head()"
   ],
   "metadata": {
    "colab": {
     "base_uri": "https://localhost:8080/",
     "height": 206
    },
    "id": "28NuCt-Grfm9",
    "outputId": "909c59fc-2691-4687-f352-4ebfc8e16118"
   },
   "outputs": [],
   "execution_count": null
  },
  {
   "cell_type": "code",
   "source": [
    "len(images[\"rgb_image\"])"
   ],
   "metadata": {
    "colab": {
     "base_uri": "https://localhost:8080/"
    },
    "id": "xHe3h8J64hLc",
    "outputId": "27f78785-b524-4c8a-b438-a0cb43b6d581"
   },
   "outputs": [],
   "execution_count": null
  },
  {
   "cell_type": "code",
   "source": [
    "import pandas as pd\n",
    "df_i = pd.read_excel(\"/root/.cache/kagglehub/datasets/siddhantrout/nutrition5k-dataset/versions/1/dish_ingredients.xlsx\")\n",
    "df_i.head()"
   ],
   "metadata": {
    "colab": {
     "base_uri": "https://localhost:8080/",
     "height": 206
    },
    "id": "Z0NpJf7D-XR2",
    "outputId": "eac5dd7b-d173-4955-f7c7-69f64d259895"
   },
   "outputs": [],
   "execution_count": null
  },
  {
   "cell_type": "code",
   "source": [
    "df_i[\"dish_id\"].is_unique"
   ],
   "metadata": {
    "colab": {
     "base_uri": "https://localhost:8080/"
    },
    "id": "Ox6FOTJ--mjd",
    "outputId": "09d2f2ab-efce-4b22-8342-7e7809eba6a1"
   },
   "outputs": [],
   "execution_count": null
  },
  {
   "cell_type": "code",
   "source": [
    "df_i.info()"
   ],
   "metadata": {
    "colab": {
     "base_uri": "https://localhost:8080/"
    },
    "id": "_MJyPqzW--lw",
    "outputId": "f94f9b33-9b84-41a8-9c6b-a3436f42d42e"
   },
   "outputs": [],
   "execution_count": null
  },
  {
   "cell_type": "code",
   "source": [
    "df_deprecated = df_i.loc[df_i[\"ingr_name\"] == \"deprecated\"][\"dish_id\"]"
   ],
   "metadata": {
    "id": "ubXcOFhpVFbm"
   },
   "outputs": [],
   "execution_count": null
  },
  {
   "cell_type": "code",
   "source": [],
   "metadata": {
    "id": "a8FSuErVdG0I"
   },
   "outputs": [],
   "execution_count": null
  },
  {
   "cell_type": "code",
   "source": [
    "import pandas as pd\n",
    "\n",
    "# dish_id'ye göre gruplama ve sayısal kolonları toplama, dishes.xslx'de bazı değerler eksikti. Burada malzemelerin calori vs. değerlerini toplayıp doğru değerleri elde ettik.\n",
    "df_new = df_i.groupby('dish_id')[['grams', 'calories', 'fat', 'carb', 'protein']].sum().reset_index()\n",
    "\n",
    "print(\"Yeni DataFrame:\")\n",
    "print(df_new.head())\n",
    "print(f\"\\nYeni DataFrame boyutu: {df_new.shape}\")\n",
    "print(f\"\\nVeri tipleri:\")\n",
    "print(df_new.dtypes)\n",
    "\n"
   ],
   "metadata": {
    "colab": {
     "base_uri": "https://localhost:8080/"
    },
    "id": "xtp80cTk_jiM",
    "outputId": "5c2ea3c4-e1ce-443c-fa3b-2aecccd8bd61"
   },
   "outputs": [],
   "execution_count": null
  },
  {
   "cell_type": "code",
   "source": [
    "df_new.loc[df_new[\"calories\"] > 1000]"
   ],
   "metadata": {
    "colab": {
     "base_uri": "https://localhost:8080/",
     "height": 865
    },
    "id": "Ol4rEqGzDYNy",
    "outputId": "74749136-6e24-4301-df17-298f3acc8bbc"
   },
   "outputs": [],
   "execution_count": null
  },
  {
   "cell_type": "code",
   "source": [
    "df_new.info()"
   ],
   "metadata": {
    "colab": {
     "base_uri": "https://localhost:8080/"
    },
    "id": "2-mT1FHs_3Wm",
    "outputId": "7a995069-6d56-4b7b-ed17-32631810bd6a"
   },
   "outputs": [],
   "execution_count": null
  },
  {
   "cell_type": "code",
   "source": [
    "images.loc[images[\"dish\"] == \"dish_1558028194\"]"
   ],
   "metadata": {
    "colab": {
     "base_uri": "https://localhost:8080/",
     "height": 81
    },
    "id": "gipyT4C_Aseh",
    "outputId": "f4adfe1d-c194-424f-e948-f9238c072a75"
   },
   "outputs": [],
   "execution_count": null
  },
  {
   "cell_type": "code",
   "source": [
    "first_image = images[\"rgb_image\"][415]\n",
    "image_name = images[\"dish\"][415]\n",
    "print(image_name)"
   ],
   "metadata": {
    "colab": {
     "base_uri": "https://localhost:8080/"
    },
    "id": "Sif3dEDhrtZC",
    "outputId": "f6003dee-62e5-4520-b018-d8af64c50157"
   },
   "outputs": [],
   "execution_count": null
  },
  {
   "cell_type": "code",
   "source": [
    "import matplotlib.pyplot as plt\n",
    "import io\n",
    "from PIL import Image\n",
    "import numpy as np\n",
    "\n",
    "# Open the byte string as an image using PIL\n",
    "image = Image.open(io.BytesIO(first_image))\n",
    "\n",
    "# Convert the image to a NumPy array\n",
    "image_array = np.array(image)\n",
    "\n",
    "dish_id = df_new[df_new[\"dish_id\"] == image_name][\"dish_id\"].values[0]\n",
    "cal = df_new[df_new[\"dish_id\"] == image_name][\"calories\"].values[0]\n",
    "carb = df_new[df_new[\"dish_id\"] == image_name][\"carb\"].values[0]\n",
    "fat = df_new[df_new[\"dish_id\"] == image_name][\"fat\"].values[0]\n",
    "protein = df_new[df_new[\"dish_id\"] == image_name][\"protein\"].values[0]\n",
    "\n",
    "# Display the image\n",
    "plt.title(f\"dish_id: {dish_id} | Calories: {cal}, Carb: {carb}, Fat: {fat}, Protein: {protein}\")\n",
    "plt.imshow(image_array)\n",
    "plt.axis('off') # Hide axes for a cleaner image display\n",
    "plt.show()"
   ],
   "metadata": {
    "colab": {
     "base_uri": "https://localhost:8080/",
     "height": 428
    },
    "id": "tYhctJgDsmQa",
    "outputId": "a574dbe0-0f11-4746-f2e9-dc035ac253c9"
   },
   "outputs": [],
   "execution_count": null
  },
  {
   "cell_type": "code",
   "source": [
    "images_subset = images[['dish', 'rgb_image']]\n",
    "df_merged = images_subset.merge(df_new, left_on=\"dish\", right_on=\"dish_id\", how = \"inner\")"
   ],
   "metadata": {
    "id": "H0lWfmD9wM3t"
   },
   "outputs": [],
   "execution_count": null
  },
  {
   "cell_type": "code",
   "source": [
    "df_merged.head()"
   ],
   "metadata": {
    "colab": {
     "base_uri": "https://localhost:8080/",
     "height": 206
    },
    "id": "wQFUN9vT3Xju",
    "outputId": "44a08ceb-d788-4ff1-e0e5-1e8dcd242d38"
   },
   "outputs": [],
   "execution_count": null
  },
  {
   "cell_type": "code",
   "source": [
    "df_merged.info()"
   ],
   "metadata": {
    "colab": {
     "base_uri": "https://localhost:8080/"
    },
    "id": "3Z1U8pId3rAk",
    "outputId": "7606685d-4056-40dc-f6fc-6ed118c36456"
   },
   "outputs": [],
   "execution_count": null
  },
  {
   "cell_type": "code",
   "source": [
    "import matplotlib.pyplot as plt\n",
    "\n",
    "# Kaç tane resim göstermek istiyorsun? (ör. tüm dataset için len(df_merged))\n",
    "N = len(df_merged)  # tüm resimler\n",
    "#N = 10            # sadece ilk 10 için\n",
    "\n",
    "for i in range(3489, 3490):\n",
    "    row = df_merged.iloc[i]\n",
    "\n",
    "    img = row[\"rgb_image\"]\n",
    "    image = Image.open(io.BytesIO(img))\n",
    "\n",
    "    cal = row[\"calories\"]\n",
    "    carb = row[\"carb\"]\n",
    "    fat = row[\"fat\"]\n",
    "    protein = row[\"protein\"]\n",
    "    dish_id = row[\"dish_id\"]\n",
    "\n",
    "    plt.figure(figsize=(5, 5))\n",
    "    plt.imshow(image)\n",
    "    plt.axis(\"off\")\n",
    "    plt.title(f\"id: {dish_id} Calories: {cal}, Carb: {carb}, Fat: {fat}, Protein: {protein}\")\n",
    "    plt.show()\n"
   ],
   "metadata": {
    "colab": {
     "base_uri": "https://localhost:8080/",
     "height": 349
    },
    "id": "M95PHdxl3xjz",
    "outputId": "2785c471-9767-49b3-9ce1-486c7fb0aa9f"
   },
   "outputs": [],
   "execution_count": null
  },
  {
   "cell_type": "code",
   "source": [
    "def remove_dish_ids(df_merged, txt_file_path):\n",
    "    \"\"\"\n",
    "    Set operations kullanarak daha hızlı silme işlemi\n",
    "    \"\"\"\n",
    "\n",
    "    # Txt dosyasını oku\n",
    "    with open(txt_file_path, 'r', encoding='utf-8') as file:\n",
    "        dish_ids_to_remove = set(line.strip() for line in file if line.strip())\n",
    "\n",
    "    print(f\"Silinecek dish_id sayısı: {len(dish_ids_to_remove)}\")\n",
    "\n",
    "    # Set operations kullanarak filtreleme\n",
    "    original_size = len(df_merged)\n",
    "    mask = ~df_merged['dish_id'].isin(dish_ids_to_remove)\n",
    "    df_cleaned = df_merged[mask].copy()\n",
    "\n",
    "    final_size = len(df_cleaned)\n",
    "    print(f\"Orijinal: {original_size} -> Temizlenmiş: {final_size}\")\n",
    "    print(f\"Silinen: {original_size - final_size} satır\")\n",
    "\n",
    "    return df_cleaned"
   ],
   "metadata": {
    "id": "N9FOkeaS3m3d"
   },
   "outputs": [],
   "execution_count": null
  },
  {
   "cell_type": "code",
   "source": [
    "dataset_cleaned = remove_dish_ids(df_merged, \"exclusion.txt\")"
   ],
   "metadata": {
    "colab": {
     "base_uri": "https://localhost:8080/"
    },
    "id": "nn6lRouX463M",
    "outputId": "e49e83e1-8dd6-49d5-94f3-c95f97da28e2"
   },
   "outputs": [],
   "execution_count": null
  },
  {
   "cell_type": "code",
   "source": [
    "dataset_cleaned.info()"
   ],
   "metadata": {
    "colab": {
     "base_uri": "https://localhost:8080/"
    },
    "id": "ZLfFT4X-6Hmi",
    "outputId": "0fc6f9b9-784d-4ba8-f85e-22f05e49893d"
   },
   "outputs": [],
   "execution_count": null
  },
  {
   "cell_type": "markdown",
   "source": [
    "3490 fotoğraf tek tek incelendiğinde öne çıkanlar şunlar:\n",
    "1. Bazı besinler kendini çok tekrar ediyor (ör. elma, badem, domates) bunlar veri seti dengesizliğine yol açacağından azaltıldı.\n",
    "2. 2 adet elma fotoğrafında protein, karbonhidrat değerleri yanlış. Tespit edilen 2 resim silindi.\n",
    "3. Badem görselleriyle eşleşen karbonhidrat değerleri hatalı. Badem içeren görsellerde kalorinin ve karbonhidrat değerleri biraz fazla tahmin edilecek.\n",
    "4. Bulanık ve tek görselde çoklu tabak(tabakların biri kısmen gözüküyor ve kısmen gözüken tabaklar hesaba katılmamış) olan görseller temizlendi.\n",
    "5. Tüm bu gözlemler sonucu 3490 fotoğrafın 57 tanesi temizlendi."
   ],
   "metadata": {
    "id": "v8efuY9uEjW8"
   }
  },
  {
   "cell_type": "code",
   "source": [],
   "metadata": {
    "id": "d8VQXxiuXIVX"
   },
   "outputs": [],
   "execution_count": null
  }
 ],
 "metadata": {
  "colab": {
   "provenance": [],
   "authorship_tag": "ABX9TyNc2HHj+DWSd7EoSF6c5I+t",
   "include_colab_link": true
  },
  "kernelspec": {
   "display_name": "Python 3",
   "name": "python3"
  },
  "language_info": {
   "name": "python"
  }
 },
 "nbformat": 4,
 "nbformat_minor": 0
}
